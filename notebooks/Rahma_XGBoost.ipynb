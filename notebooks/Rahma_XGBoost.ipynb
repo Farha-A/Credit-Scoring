{
  "nbformat": 4,
  "nbformat_minor": 0,
  "metadata": {
    "colab": {
      "provenance": [],
      "gpuType": "V28",
      "collapsed_sections": [
        "UTN9VzAu1QBO",
        "GfeMr8h81vsz",
        "_W66pM91BsLh",
        "2ZMDxDf8Bfob"
      ]
    },
    "kernelspec": {
      "name": "python3",
      "display_name": "Python 3"
    },
    "language_info": {
      "name": "python"
    },
    "accelerator": "TPU"
  },
  "cells": [
    {
      "cell_type": "markdown",
      "source": [
        "# **Import library**"
      ],
      "metadata": {
        "id": "UTN9VzAu1QBO"
      }
    },
    {
      "cell_type": "code",
      "source": [
        "# %pip install xgboost"
      ],
      "metadata": {
        "id": "PBLV6H4p1ejE"
      },
      "execution_count": 1,
      "outputs": []
    },
    {
      "cell_type": "code",
      "source": [
        "from xgboost import XGBClassifier, cv, DMatrix"
      ],
      "metadata": {
        "id": "nox3fiwDEnwK"
      },
      "execution_count": 2,
      "outputs": []
    },
    {
      "cell_type": "code",
      "execution_count": 3,
      "metadata": {
        "id": "B_kCnSxk01a_"
      },
      "outputs": [],
      "source": [
        "import pandas as pd\n",
        "import numpy as np\n",
        "from sklearn.model_selection import train_test_split\n",
        "from sklearn.preprocessing import LabelEncoder, StandardScaler\n",
        "from sklearn.metrics import accuracy_score, precision_score, recall_score, f1_score, confusion_matrix\n",
        "import xgboost as xgb\n",
        "import matplotlib.pyplot as plt\n",
        "import seaborn as sns\n",
        "from sklearn.metrics import classification_report\n",
        "from sklearn.metrics import roc_auc_score"
      ]
    },
    {
      "cell_type": "code",
      "source": [
        "import numpy as np\n",
        "import pandas as pd\n",
        "from sklearn import svm\n",
        "from sklearn.metrics import accuracy_score, classification_report, confusion_matrix, roc_curve, auc\n",
        "from sklearn.model_selection import train_test_split\n",
        "import matplotlib.pyplot as plt\n",
        "import seaborn as sns\n",
        "from sklearn.preprocessing import LabelEncoder\n",
        "import time"
      ],
      "metadata": {
        "id": "Pa2sbuRr6avC"
      },
      "execution_count": 4,
      "outputs": []
    },
    {
      "cell_type": "markdown",
      "source": [
        "# **Load the data sets**"
      ],
      "metadata": {
        "id": "GfeMr8h81vsz"
      }
    },
    {
      "cell_type": "code",
      "source": [
        "# def download_data(folder_id):\n",
        "#     url = f\"https://drive.google.com/drive/folders/{folder_id}\"\n",
        "#     # gdown URL format\n",
        "#     gdown.download_folder(url=url, output=\"./downloaded_folder\", quiet=False, use_cookies=False)"
      ],
      "metadata": {
        "id": "Y-DN_Ao610L-"
      },
      "execution_count": 5,
      "outputs": []
    },
    {
      "cell_type": "code",
      "source": [
        "# def decompress_gz(file_path, output_file_name):\n",
        "#     with gzip.open(file_path, 'rb') as f_in:\n",
        "#         with open(output_file_name, 'wb') as f_out:\n",
        "#             shutil.copyfileobj(f_in, f_out)"
      ],
      "metadata": {
        "id": "-dEJm2saEvs8"
      },
      "execution_count": 6,
      "outputs": []
    },
    {
      "cell_type": "code",
      "source": [
        "# if __name__ == '__main__':\n",
        "#     # downloading raw dataset\n",
        "#     download_data(\"14ZG8utOf0Ry76w_T9rqrk5kdhhPIK84P\")\n",
        "#     # Check if the downloaded folder exists before proceeding\n",
        "#     import os\n",
        "#     if os.path.exists('/kaggle/working/downloaded_folder/accepted_2007_to_2018Q4.csv.gz'):\n",
        "#         decompress_gz('/kaggle/working/downloaded_folder/accepted_2007_to_2018Q4.csv.gz', \"accepted.csv\")\n",
        "#     else:\n",
        "#         print(\"Downloaded file not found. Please check the download process.\")"
      ],
      "metadata": {
        "id": "zS6bxEO_19iG"
      },
      "execution_count": 7,
      "outputs": []
    },
    {
      "cell_type": "code",
      "source": [
        "accepted_df = pd.read_csv(\"/content/df_cleaned (2).csv\", low_memory=False)\n",
        "accepted_df.head()"
      ],
      "metadata": {
        "colab": {
          "base_uri": "https://localhost:8080/",
          "height": 256
        },
        "id": "qfbtf1M1E9aW",
        "outputId": "3bbc26b5-c712-4883-ec1e-462a4dce47ba"
      },
      "execution_count": 8,
      "outputs": [
        {
          "output_type": "execute_result",
          "data": {
            "text/plain": [
              "   last_pymnt_d  total_rec_prncp  last_pymnt_amnt  out_prncp  \\\n",
              "0            17        -0.332581        -0.372797   0.420080   \n",
              "1            31        -0.840560        -0.473603  -0.629220   \n",
              "2            27        -0.250720        -0.222228   2.263937   \n",
              "3            39        -0.458023         0.161605  -0.629220   \n",
              "4             5        -0.415519         0.220569  -0.629220   \n",
              "\n",
              "   total_rec_late_fee  last_fico_range_high  installment  loan_amnt  \\\n",
              "0           -0.261895              0.281611    -0.473027  -0.461473   \n",
              "1           -0.261895              1.244049    -1.608631  -1.601510   \n",
              "2           -0.261895              0.883135     1.252073   1.058575   \n",
              "3           -0.261895              0.161306    -1.364264  -1.373503   \n",
              "4           -0.261895              0.221459    -1.317547  -1.348168   \n",
              "\n",
              "   total_rec_int  out_prncp_inv  ...  funded_amnt_inv  recoveries  \\\n",
              "0       0.413942       0.420298  ...        -0.461004   -0.445598   \n",
              "1      -1.081823      -0.629167  ...        -1.601271   -0.445598   \n",
              "2      -0.380182       2.264445  ...         1.059353   -0.445598   \n",
              "3      -0.909433      -0.629167  ...        -1.373218   -0.445598   \n",
              "4      -0.834440      -0.629167  ...        -1.347878   -0.445598   \n",
              "\n",
              "   debt_settlement_flag  hardship_flag  mo_sin_old_rev_tl_op  revol_util  \\\n",
              "0                     0              0             -0.307356    0.608376   \n",
              "1                     0              0             -0.187187   -1.880835   \n",
              "2                     0              0             -0.980297    0.431193   \n",
              "3                     0              0             -1.472987    0.314511   \n",
              "4                     0              0              0.738107    1.273894   \n",
              "\n",
              "        dti  all_util  annual_inc  loan_status  \n",
              "0  0.558953  0.915820   -1.203816            0  \n",
              "1 -1.233491 -0.049124    0.274631            1  \n",
              "2 -0.223328  0.379740    2.227297            1  \n",
              "3 -0.337836  0.433348   -1.231711            1  \n",
              "4  0.117928  1.559116   -0.841178            1  \n",
              "\n",
              "[5 rows x 21 columns]"
            ],
            "text/html": [
              "\n",
              "  <div id=\"df-b35701ce-76ef-432c-b568-159e4c68ba46\" class=\"colab-df-container\">\n",
              "    <div>\n",
              "<style scoped>\n",
              "    .dataframe tbody tr th:only-of-type {\n",
              "        vertical-align: middle;\n",
              "    }\n",
              "\n",
              "    .dataframe tbody tr th {\n",
              "        vertical-align: top;\n",
              "    }\n",
              "\n",
              "    .dataframe thead th {\n",
              "        text-align: right;\n",
              "    }\n",
              "</style>\n",
              "<table border=\"1\" class=\"dataframe\">\n",
              "  <thead>\n",
              "    <tr style=\"text-align: right;\">\n",
              "      <th></th>\n",
              "      <th>last_pymnt_d</th>\n",
              "      <th>total_rec_prncp</th>\n",
              "      <th>last_pymnt_amnt</th>\n",
              "      <th>out_prncp</th>\n",
              "      <th>total_rec_late_fee</th>\n",
              "      <th>last_fico_range_high</th>\n",
              "      <th>installment</th>\n",
              "      <th>loan_amnt</th>\n",
              "      <th>total_rec_int</th>\n",
              "      <th>out_prncp_inv</th>\n",
              "      <th>...</th>\n",
              "      <th>funded_amnt_inv</th>\n",
              "      <th>recoveries</th>\n",
              "      <th>debt_settlement_flag</th>\n",
              "      <th>hardship_flag</th>\n",
              "      <th>mo_sin_old_rev_tl_op</th>\n",
              "      <th>revol_util</th>\n",
              "      <th>dti</th>\n",
              "      <th>all_util</th>\n",
              "      <th>annual_inc</th>\n",
              "      <th>loan_status</th>\n",
              "    </tr>\n",
              "  </thead>\n",
              "  <tbody>\n",
              "    <tr>\n",
              "      <th>0</th>\n",
              "      <td>17</td>\n",
              "      <td>-0.332581</td>\n",
              "      <td>-0.372797</td>\n",
              "      <td>0.420080</td>\n",
              "      <td>-0.261895</td>\n",
              "      <td>0.281611</td>\n",
              "      <td>-0.473027</td>\n",
              "      <td>-0.461473</td>\n",
              "      <td>0.413942</td>\n",
              "      <td>0.420298</td>\n",
              "      <td>...</td>\n",
              "      <td>-0.461004</td>\n",
              "      <td>-0.445598</td>\n",
              "      <td>0</td>\n",
              "      <td>0</td>\n",
              "      <td>-0.307356</td>\n",
              "      <td>0.608376</td>\n",
              "      <td>0.558953</td>\n",
              "      <td>0.915820</td>\n",
              "      <td>-1.203816</td>\n",
              "      <td>0</td>\n",
              "    </tr>\n",
              "    <tr>\n",
              "      <th>1</th>\n",
              "      <td>31</td>\n",
              "      <td>-0.840560</td>\n",
              "      <td>-0.473603</td>\n",
              "      <td>-0.629220</td>\n",
              "      <td>-0.261895</td>\n",
              "      <td>1.244049</td>\n",
              "      <td>-1.608631</td>\n",
              "      <td>-1.601510</td>\n",
              "      <td>-1.081823</td>\n",
              "      <td>-0.629167</td>\n",
              "      <td>...</td>\n",
              "      <td>-1.601271</td>\n",
              "      <td>-0.445598</td>\n",
              "      <td>0</td>\n",
              "      <td>0</td>\n",
              "      <td>-0.187187</td>\n",
              "      <td>-1.880835</td>\n",
              "      <td>-1.233491</td>\n",
              "      <td>-0.049124</td>\n",
              "      <td>0.274631</td>\n",
              "      <td>1</td>\n",
              "    </tr>\n",
              "    <tr>\n",
              "      <th>2</th>\n",
              "      <td>27</td>\n",
              "      <td>-0.250720</td>\n",
              "      <td>-0.222228</td>\n",
              "      <td>2.263937</td>\n",
              "      <td>-0.261895</td>\n",
              "      <td>0.883135</td>\n",
              "      <td>1.252073</td>\n",
              "      <td>1.058575</td>\n",
              "      <td>-0.380182</td>\n",
              "      <td>2.264445</td>\n",
              "      <td>...</td>\n",
              "      <td>1.059353</td>\n",
              "      <td>-0.445598</td>\n",
              "      <td>0</td>\n",
              "      <td>0</td>\n",
              "      <td>-0.980297</td>\n",
              "      <td>0.431193</td>\n",
              "      <td>-0.223328</td>\n",
              "      <td>0.379740</td>\n",
              "      <td>2.227297</td>\n",
              "      <td>1</td>\n",
              "    </tr>\n",
              "    <tr>\n",
              "      <th>3</th>\n",
              "      <td>39</td>\n",
              "      <td>-0.458023</td>\n",
              "      <td>0.161605</td>\n",
              "      <td>-0.629220</td>\n",
              "      <td>-0.261895</td>\n",
              "      <td>0.161306</td>\n",
              "      <td>-1.364264</td>\n",
              "      <td>-1.373503</td>\n",
              "      <td>-0.909433</td>\n",
              "      <td>-0.629167</td>\n",
              "      <td>...</td>\n",
              "      <td>-1.373218</td>\n",
              "      <td>-0.445598</td>\n",
              "      <td>0</td>\n",
              "      <td>0</td>\n",
              "      <td>-1.472987</td>\n",
              "      <td>0.314511</td>\n",
              "      <td>-0.337836</td>\n",
              "      <td>0.433348</td>\n",
              "      <td>-1.231711</td>\n",
              "      <td>1</td>\n",
              "    </tr>\n",
              "    <tr>\n",
              "      <th>4</th>\n",
              "      <td>5</td>\n",
              "      <td>-0.415519</td>\n",
              "      <td>0.220569</td>\n",
              "      <td>-0.629220</td>\n",
              "      <td>-0.261895</td>\n",
              "      <td>0.221459</td>\n",
              "      <td>-1.317547</td>\n",
              "      <td>-1.348168</td>\n",
              "      <td>-0.834440</td>\n",
              "      <td>-0.629167</td>\n",
              "      <td>...</td>\n",
              "      <td>-1.347878</td>\n",
              "      <td>-0.445598</td>\n",
              "      <td>0</td>\n",
              "      <td>0</td>\n",
              "      <td>0.738107</td>\n",
              "      <td>1.273894</td>\n",
              "      <td>0.117928</td>\n",
              "      <td>1.559116</td>\n",
              "      <td>-0.841178</td>\n",
              "      <td>1</td>\n",
              "    </tr>\n",
              "  </tbody>\n",
              "</table>\n",
              "<p>5 rows × 21 columns</p>\n",
              "</div>\n",
              "    <div class=\"colab-df-buttons\">\n",
              "\n",
              "  <div class=\"colab-df-container\">\n",
              "    <button class=\"colab-df-convert\" onclick=\"convertToInteractive('df-b35701ce-76ef-432c-b568-159e4c68ba46')\"\n",
              "            title=\"Convert this dataframe to an interactive table.\"\n",
              "            style=\"display:none;\">\n",
              "\n",
              "  <svg xmlns=\"http://www.w3.org/2000/svg\" height=\"24px\" viewBox=\"0 -960 960 960\">\n",
              "    <path d=\"M120-120v-720h720v720H120Zm60-500h600v-160H180v160Zm220 220h160v-160H400v160Zm0 220h160v-160H400v160ZM180-400h160v-160H180v160Zm440 0h160v-160H620v160ZM180-180h160v-160H180v160Zm440 0h160v-160H620v160Z\"/>\n",
              "  </svg>\n",
              "    </button>\n",
              "\n",
              "  <style>\n",
              "    .colab-df-container {\n",
              "      display:flex;\n",
              "      gap: 12px;\n",
              "    }\n",
              "\n",
              "    .colab-df-convert {\n",
              "      background-color: #E8F0FE;\n",
              "      border: none;\n",
              "      border-radius: 50%;\n",
              "      cursor: pointer;\n",
              "      display: none;\n",
              "      fill: #1967D2;\n",
              "      height: 32px;\n",
              "      padding: 0 0 0 0;\n",
              "      width: 32px;\n",
              "    }\n",
              "\n",
              "    .colab-df-convert:hover {\n",
              "      background-color: #E2EBFA;\n",
              "      box-shadow: 0px 1px 2px rgba(60, 64, 67, 0.3), 0px 1px 3px 1px rgba(60, 64, 67, 0.15);\n",
              "      fill: #174EA6;\n",
              "    }\n",
              "\n",
              "    .colab-df-buttons div {\n",
              "      margin-bottom: 4px;\n",
              "    }\n",
              "\n",
              "    [theme=dark] .colab-df-convert {\n",
              "      background-color: #3B4455;\n",
              "      fill: #D2E3FC;\n",
              "    }\n",
              "\n",
              "    [theme=dark] .colab-df-convert:hover {\n",
              "      background-color: #434B5C;\n",
              "      box-shadow: 0px 1px 3px 1px rgba(0, 0, 0, 0.15);\n",
              "      filter: drop-shadow(0px 1px 2px rgba(0, 0, 0, 0.3));\n",
              "      fill: #FFFFFF;\n",
              "    }\n",
              "  </style>\n",
              "\n",
              "    <script>\n",
              "      const buttonEl =\n",
              "        document.querySelector('#df-b35701ce-76ef-432c-b568-159e4c68ba46 button.colab-df-convert');\n",
              "      buttonEl.style.display =\n",
              "        google.colab.kernel.accessAllowed ? 'block' : 'none';\n",
              "\n",
              "      async function convertToInteractive(key) {\n",
              "        const element = document.querySelector('#df-b35701ce-76ef-432c-b568-159e4c68ba46');\n",
              "        const dataTable =\n",
              "          await google.colab.kernel.invokeFunction('convertToInteractive',\n",
              "                                                    [key], {});\n",
              "        if (!dataTable) return;\n",
              "\n",
              "        const docLinkHtml = 'Like what you see? Visit the ' +\n",
              "          '<a target=\"_blank\" href=https://colab.research.google.com/notebooks/data_table.ipynb>data table notebook</a>'\n",
              "          + ' to learn more about interactive tables.';\n",
              "        element.innerHTML = '';\n",
              "        dataTable['output_type'] = 'display_data';\n",
              "        await google.colab.output.renderOutput(dataTable, element);\n",
              "        const docLink = document.createElement('div');\n",
              "        docLink.innerHTML = docLinkHtml;\n",
              "        element.appendChild(docLink);\n",
              "      }\n",
              "    </script>\n",
              "  </div>\n",
              "\n",
              "\n",
              "<div id=\"df-443efbbb-ca5d-4e79-bf42-00284f2b3f57\">\n",
              "  <button class=\"colab-df-quickchart\" onclick=\"quickchart('df-443efbbb-ca5d-4e79-bf42-00284f2b3f57')\"\n",
              "            title=\"Suggest charts\"\n",
              "            style=\"display:none;\">\n",
              "\n",
              "<svg xmlns=\"http://www.w3.org/2000/svg\" height=\"24px\"viewBox=\"0 0 24 24\"\n",
              "     width=\"24px\">\n",
              "    <g>\n",
              "        <path d=\"M19 3H5c-1.1 0-2 .9-2 2v14c0 1.1.9 2 2 2h14c1.1 0 2-.9 2-2V5c0-1.1-.9-2-2-2zM9 17H7v-7h2v7zm4 0h-2V7h2v10zm4 0h-2v-4h2v4z\"/>\n",
              "    </g>\n",
              "</svg>\n",
              "  </button>\n",
              "\n",
              "<style>\n",
              "  .colab-df-quickchart {\n",
              "      --bg-color: #E8F0FE;\n",
              "      --fill-color: #1967D2;\n",
              "      --hover-bg-color: #E2EBFA;\n",
              "      --hover-fill-color: #174EA6;\n",
              "      --disabled-fill-color: #AAA;\n",
              "      --disabled-bg-color: #DDD;\n",
              "  }\n",
              "\n",
              "  [theme=dark] .colab-df-quickchart {\n",
              "      --bg-color: #3B4455;\n",
              "      --fill-color: #D2E3FC;\n",
              "      --hover-bg-color: #434B5C;\n",
              "      --hover-fill-color: #FFFFFF;\n",
              "      --disabled-bg-color: #3B4455;\n",
              "      --disabled-fill-color: #666;\n",
              "  }\n",
              "\n",
              "  .colab-df-quickchart {\n",
              "    background-color: var(--bg-color);\n",
              "    border: none;\n",
              "    border-radius: 50%;\n",
              "    cursor: pointer;\n",
              "    display: none;\n",
              "    fill: var(--fill-color);\n",
              "    height: 32px;\n",
              "    padding: 0;\n",
              "    width: 32px;\n",
              "  }\n",
              "\n",
              "  .colab-df-quickchart:hover {\n",
              "    background-color: var(--hover-bg-color);\n",
              "    box-shadow: 0 1px 2px rgba(60, 64, 67, 0.3), 0 1px 3px 1px rgba(60, 64, 67, 0.15);\n",
              "    fill: var(--button-hover-fill-color);\n",
              "  }\n",
              "\n",
              "  .colab-df-quickchart-complete:disabled,\n",
              "  .colab-df-quickchart-complete:disabled:hover {\n",
              "    background-color: var(--disabled-bg-color);\n",
              "    fill: var(--disabled-fill-color);\n",
              "    box-shadow: none;\n",
              "  }\n",
              "\n",
              "  .colab-df-spinner {\n",
              "    border: 2px solid var(--fill-color);\n",
              "    border-color: transparent;\n",
              "    border-bottom-color: var(--fill-color);\n",
              "    animation:\n",
              "      spin 1s steps(1) infinite;\n",
              "  }\n",
              "\n",
              "  @keyframes spin {\n",
              "    0% {\n",
              "      border-color: transparent;\n",
              "      border-bottom-color: var(--fill-color);\n",
              "      border-left-color: var(--fill-color);\n",
              "    }\n",
              "    20% {\n",
              "      border-color: transparent;\n",
              "      border-left-color: var(--fill-color);\n",
              "      border-top-color: var(--fill-color);\n",
              "    }\n",
              "    30% {\n",
              "      border-color: transparent;\n",
              "      border-left-color: var(--fill-color);\n",
              "      border-top-color: var(--fill-color);\n",
              "      border-right-color: var(--fill-color);\n",
              "    }\n",
              "    40% {\n",
              "      border-color: transparent;\n",
              "      border-right-color: var(--fill-color);\n",
              "      border-top-color: var(--fill-color);\n",
              "    }\n",
              "    60% {\n",
              "      border-color: transparent;\n",
              "      border-right-color: var(--fill-color);\n",
              "    }\n",
              "    80% {\n",
              "      border-color: transparent;\n",
              "      border-right-color: var(--fill-color);\n",
              "      border-bottom-color: var(--fill-color);\n",
              "    }\n",
              "    90% {\n",
              "      border-color: transparent;\n",
              "      border-bottom-color: var(--fill-color);\n",
              "    }\n",
              "  }\n",
              "</style>\n",
              "\n",
              "  <script>\n",
              "    async function quickchart(key) {\n",
              "      const quickchartButtonEl =\n",
              "        document.querySelector('#' + key + ' button');\n",
              "      quickchartButtonEl.disabled = true;  // To prevent multiple clicks.\n",
              "      quickchartButtonEl.classList.add('colab-df-spinner');\n",
              "      try {\n",
              "        const charts = await google.colab.kernel.invokeFunction(\n",
              "            'suggestCharts', [key], {});\n",
              "      } catch (error) {\n",
              "        console.error('Error during call to suggestCharts:', error);\n",
              "      }\n",
              "      quickchartButtonEl.classList.remove('colab-df-spinner');\n",
              "      quickchartButtonEl.classList.add('colab-df-quickchart-complete');\n",
              "    }\n",
              "    (() => {\n",
              "      let quickchartButtonEl =\n",
              "        document.querySelector('#df-443efbbb-ca5d-4e79-bf42-00284f2b3f57 button');\n",
              "      quickchartButtonEl.style.display =\n",
              "        google.colab.kernel.accessAllowed ? 'block' : 'none';\n",
              "    })();\n",
              "  </script>\n",
              "</div>\n",
              "\n",
              "    </div>\n",
              "  </div>\n"
            ],
            "application/vnd.google.colaboratory.intrinsic+json": {
              "type": "dataframe",
              "variable_name": "accepted_df"
            }
          },
          "metadata": {},
          "execution_count": 8
        }
      ]
    },
    {
      "cell_type": "markdown",
      "source": [
        "# **preprocessing**"
      ],
      "metadata": {
        "id": "_W66pM91BsLh"
      }
    },
    {
      "cell_type": "code",
      "source": [
        "df=accepted_df.copy()"
      ],
      "metadata": {
        "id": "nqOWpEkiCUoj"
      },
      "execution_count": 9,
      "outputs": []
    },
    {
      "cell_type": "code",
      "source": [
        "df.shape"
      ],
      "metadata": {
        "colab": {
          "base_uri": "https://localhost:8080/"
        },
        "id": "TzgIclYXI1GZ",
        "outputId": "8c242f02-1b30-4c81-ddae-c2a0800e4a83"
      },
      "execution_count": 10,
      "outputs": [
        {
          "output_type": "execute_result",
          "data": {
            "text/plain": [
              "(119286, 21)"
            ]
          },
          "metadata": {},
          "execution_count": 10
        }
      ]
    },
    {
      "cell_type": "code",
      "source": [
        "df.isna().sum()"
      ],
      "metadata": {
        "colab": {
          "base_uri": "https://localhost:8080/",
          "height": 743
        },
        "id": "9V6oA5z9Bxlt",
        "outputId": "a2fa0a61-604c-4048-9d49-b92eeb48c3ad"
      },
      "execution_count": 11,
      "outputs": [
        {
          "output_type": "execute_result",
          "data": {
            "text/plain": [
              "last_pymnt_d            0\n",
              "total_rec_prncp         0\n",
              "last_pymnt_amnt         0\n",
              "out_prncp               0\n",
              "total_rec_late_fee      0\n",
              "last_fico_range_high    0\n",
              "installment             0\n",
              "loan_amnt               0\n",
              "total_rec_int           0\n",
              "out_prncp_inv           0\n",
              "total_pymnt             0\n",
              "funded_amnt_inv         0\n",
              "recoveries              0\n",
              "debt_settlement_flag    0\n",
              "hardship_flag           0\n",
              "mo_sin_old_rev_tl_op    0\n",
              "revol_util              0\n",
              "dti                     0\n",
              "all_util                0\n",
              "annual_inc              0\n",
              "loan_status             0\n",
              "dtype: int64"
            ],
            "text/html": [
              "<div>\n",
              "<style scoped>\n",
              "    .dataframe tbody tr th:only-of-type {\n",
              "        vertical-align: middle;\n",
              "    }\n",
              "\n",
              "    .dataframe tbody tr th {\n",
              "        vertical-align: top;\n",
              "    }\n",
              "\n",
              "    .dataframe thead th {\n",
              "        text-align: right;\n",
              "    }\n",
              "</style>\n",
              "<table border=\"1\" class=\"dataframe\">\n",
              "  <thead>\n",
              "    <tr style=\"text-align: right;\">\n",
              "      <th></th>\n",
              "      <th>0</th>\n",
              "    </tr>\n",
              "  </thead>\n",
              "  <tbody>\n",
              "    <tr>\n",
              "      <th>last_pymnt_d</th>\n",
              "      <td>0</td>\n",
              "    </tr>\n",
              "    <tr>\n",
              "      <th>total_rec_prncp</th>\n",
              "      <td>0</td>\n",
              "    </tr>\n",
              "    <tr>\n",
              "      <th>last_pymnt_amnt</th>\n",
              "      <td>0</td>\n",
              "    </tr>\n",
              "    <tr>\n",
              "      <th>out_prncp</th>\n",
              "      <td>0</td>\n",
              "    </tr>\n",
              "    <tr>\n",
              "      <th>total_rec_late_fee</th>\n",
              "      <td>0</td>\n",
              "    </tr>\n",
              "    <tr>\n",
              "      <th>last_fico_range_high</th>\n",
              "      <td>0</td>\n",
              "    </tr>\n",
              "    <tr>\n",
              "      <th>installment</th>\n",
              "      <td>0</td>\n",
              "    </tr>\n",
              "    <tr>\n",
              "      <th>loan_amnt</th>\n",
              "      <td>0</td>\n",
              "    </tr>\n",
              "    <tr>\n",
              "      <th>total_rec_int</th>\n",
              "      <td>0</td>\n",
              "    </tr>\n",
              "    <tr>\n",
              "      <th>out_prncp_inv</th>\n",
              "      <td>0</td>\n",
              "    </tr>\n",
              "    <tr>\n",
              "      <th>total_pymnt</th>\n",
              "      <td>0</td>\n",
              "    </tr>\n",
              "    <tr>\n",
              "      <th>funded_amnt_inv</th>\n",
              "      <td>0</td>\n",
              "    </tr>\n",
              "    <tr>\n",
              "      <th>recoveries</th>\n",
              "      <td>0</td>\n",
              "    </tr>\n",
              "    <tr>\n",
              "      <th>debt_settlement_flag</th>\n",
              "      <td>0</td>\n",
              "    </tr>\n",
              "    <tr>\n",
              "      <th>hardship_flag</th>\n",
              "      <td>0</td>\n",
              "    </tr>\n",
              "    <tr>\n",
              "      <th>mo_sin_old_rev_tl_op</th>\n",
              "      <td>0</td>\n",
              "    </tr>\n",
              "    <tr>\n",
              "      <th>revol_util</th>\n",
              "      <td>0</td>\n",
              "    </tr>\n",
              "    <tr>\n",
              "      <th>dti</th>\n",
              "      <td>0</td>\n",
              "    </tr>\n",
              "    <tr>\n",
              "      <th>all_util</th>\n",
              "      <td>0</td>\n",
              "    </tr>\n",
              "    <tr>\n",
              "      <th>annual_inc</th>\n",
              "      <td>0</td>\n",
              "    </tr>\n",
              "    <tr>\n",
              "      <th>loan_status</th>\n",
              "      <td>0</td>\n",
              "    </tr>\n",
              "  </tbody>\n",
              "</table>\n",
              "</div><br><label><b>dtype:</b> int64</label>"
            ]
          },
          "metadata": {},
          "execution_count": 11
        }
      ]
    },
    {
      "cell_type": "code",
      "source": [
        "# Print all column names\n",
        "print(accepted_df.columns.tolist())"
      ],
      "metadata": {
        "colab": {
          "base_uri": "https://localhost:8080/"
        },
        "id": "YXzN-uYmJ-Kb",
        "outputId": "31a828c0-ecb3-4c31-c38b-72558a948ee0"
      },
      "execution_count": 12,
      "outputs": [
        {
          "output_type": "stream",
          "name": "stdout",
          "text": [
            "['last_pymnt_d', 'total_rec_prncp', 'last_pymnt_amnt', 'out_prncp', 'total_rec_late_fee', 'last_fico_range_high', 'installment', 'loan_amnt', 'total_rec_int', 'out_prncp_inv', 'total_pymnt', 'funded_amnt_inv', 'recoveries', 'debt_settlement_flag', 'hardship_flag', 'mo_sin_old_rev_tl_op', 'revol_util', 'dti', 'all_util', 'annual_inc', 'loan_status']\n"
          ]
        }
      ]
    },
    {
      "cell_type": "code",
      "source": [
        "cat_cols = accepted_df.select_dtypes(include=['object']).columns.tolist()\n",
        "label_encoders = {}\n",
        "for col in cat_cols:\n",
        "      le = LabelEncoder()\n",
        "      df[col] = le.fit_transform(df[col])\n",
        "      label_encoders[col] = le"
      ],
      "metadata": {
        "id": "ikOiQ6WdLda3"
      },
      "execution_count": 13,
      "outputs": []
    },
    {
      "cell_type": "code",
      "source": [
        "X = df.drop('loan_status', axis=1)\n",
        "y = df['loan_status']"
      ],
      "metadata": {
        "id": "b-w4NyWALBfT"
      },
      "execution_count": 14,
      "outputs": []
    },
    {
      "cell_type": "code",
      "source": [
        "# Split data into train and test sets\n",
        "X_train, X_test, y_train, y_test = train_test_split(X, y, test_size=0.2, random_state=42)\n"
      ],
      "metadata": {
        "id": "oZ0wIEGJCkHg"
      },
      "execution_count": 15,
      "outputs": []
    },
    {
      "cell_type": "code",
      "source": [
        "y_train.value_counts(normalize=True)"
      ],
      "metadata": {
        "colab": {
          "base_uri": "https://localhost:8080/",
          "height": 178
        },
        "id": "S02A6PpeS9jg",
        "outputId": "e8bafd67-ffda-4fa5-cd9e-6c937d4f2614"
      },
      "execution_count": 16,
      "outputs": [
        {
          "output_type": "execute_result",
          "data": {
            "text/plain": [
              "loan_status\n",
              "1    0.521199\n",
              "0    0.478801\n",
              "Name: proportion, dtype: float64"
            ],
            "text/html": [
              "<div>\n",
              "<style scoped>\n",
              "    .dataframe tbody tr th:only-of-type {\n",
              "        vertical-align: middle;\n",
              "    }\n",
              "\n",
              "    .dataframe tbody tr th {\n",
              "        vertical-align: top;\n",
              "    }\n",
              "\n",
              "    .dataframe thead th {\n",
              "        text-align: right;\n",
              "    }\n",
              "</style>\n",
              "<table border=\"1\" class=\"dataframe\">\n",
              "  <thead>\n",
              "    <tr style=\"text-align: right;\">\n",
              "      <th></th>\n",
              "      <th>proportion</th>\n",
              "    </tr>\n",
              "    <tr>\n",
              "      <th>loan_status</th>\n",
              "      <th></th>\n",
              "    </tr>\n",
              "  </thead>\n",
              "  <tbody>\n",
              "    <tr>\n",
              "      <th>1</th>\n",
              "      <td>0.521199</td>\n",
              "    </tr>\n",
              "    <tr>\n",
              "      <th>0</th>\n",
              "      <td>0.478801</td>\n",
              "    </tr>\n",
              "  </tbody>\n",
              "</table>\n",
              "</div><br><label><b>dtype:</b> float64</label>"
            ]
          },
          "metadata": {},
          "execution_count": 16
        }
      ]
    },
    {
      "cell_type": "code",
      "source": [
        "y_test.value_counts(normalize=True)"
      ],
      "metadata": {
        "colab": {
          "base_uri": "https://localhost:8080/",
          "height": 178
        },
        "id": "6Ba1J9qyTAJ1",
        "outputId": "1a5eda2b-62d3-4e6c-f1fc-84f68fcdc3a8"
      },
      "execution_count": 17,
      "outputs": [
        {
          "output_type": "execute_result",
          "data": {
            "text/plain": [
              "loan_status\n",
              "1    0.515928\n",
              "0    0.484072\n",
              "Name: proportion, dtype: float64"
            ],
            "text/html": [
              "<div>\n",
              "<style scoped>\n",
              "    .dataframe tbody tr th:only-of-type {\n",
              "        vertical-align: middle;\n",
              "    }\n",
              "\n",
              "    .dataframe tbody tr th {\n",
              "        vertical-align: top;\n",
              "    }\n",
              "\n",
              "    .dataframe thead th {\n",
              "        text-align: right;\n",
              "    }\n",
              "</style>\n",
              "<table border=\"1\" class=\"dataframe\">\n",
              "  <thead>\n",
              "    <tr style=\"text-align: right;\">\n",
              "      <th></th>\n",
              "      <th>proportion</th>\n",
              "    </tr>\n",
              "    <tr>\n",
              "      <th>loan_status</th>\n",
              "      <th></th>\n",
              "    </tr>\n",
              "  </thead>\n",
              "  <tbody>\n",
              "    <tr>\n",
              "      <th>1</th>\n",
              "      <td>0.515928</td>\n",
              "    </tr>\n",
              "    <tr>\n",
              "      <th>0</th>\n",
              "      <td>0.484072</td>\n",
              "    </tr>\n",
              "  </tbody>\n",
              "</table>\n",
              "</div><br><label><b>dtype:</b> float64</label>"
            ]
          },
          "metadata": {},
          "execution_count": 17
        }
      ]
    },
    {
      "cell_type": "code",
      "source": [
        "# Create DMatrix for XGBoost\n",
        "dtrain = xgb.DMatrix(X_train, label=y_train)\n",
        "dtest = xgb.DMatrix(X_test, label=y_test)"
      ],
      "metadata": {
        "id": "RVEbRaWcDNws"
      },
      "execution_count": 18,
      "outputs": []
    },
    {
      "cell_type": "code",
      "source": [
        "learning_objective = {'objective':'binary:logistic' }\n",
        "model = xgb.train(params = learning_objective, dtrain= dtrain)"
      ],
      "metadata": {
        "id": "St28BO-YT6Rz"
      },
      "execution_count": 19,
      "outputs": []
    },
    {
      "cell_type": "code",
      "source": [
        "test_predictions = model.predict(dtest)\n",
        "round_test_predictions = [round(p) for p in test_predictions]\n",
        "accuracy_score(y_test,round_test_predictions)"
      ],
      "metadata": {
        "colab": {
          "base_uri": "https://localhost:8080/"
        },
        "id": "0xRfvAigUG5v",
        "outputId": "0837aeff-9dc2-4ceb-cd18-aab40bbb39f5"
      },
      "execution_count": 20,
      "outputs": [
        {
          "output_type": "execute_result",
          "data": {
            "text/plain": [
              "0.9847849777852292"
            ]
          },
          "metadata": {},
          "execution_count": 20
        }
      ]
    },
    {
      "cell_type": "markdown",
      "source": [
        "# **Xgboost implementation**"
      ],
      "metadata": {
        "id": "2ZMDxDf8Bfob"
      }
    },
    {
      "cell_type": "code",
      "source": [
        "def train_xgboost_model(X_train, y_train, X_test, y_test, objective='binary:logistic', eval_metric='auc', tree_method='hist',\n",
        "                        learning_rate=0.1, max_depth=6, subsample=0.8, colsample_bytree=0.8, gamma=0.1, reg_alpha=0.1,\n",
        "                        reg_lambda=1.0, seed=42, n_jobs=-1):\n",
        "    \"\"\"\n",
        "    Train an XGBoost classifier and return the trained model.\n",
        "\n",
        "    Parameters:\n",
        "    - X_train: Training features\n",
        "    - y_train: Training labels\n",
        "    - X_test: Test features\n",
        "    - y_test: Test labels\n",
        "    \"\"\"\n",
        "    # Convert to DMatrix (optimized XGBoost data structure)\n",
        "    dtrain = xgb.DMatrix(X_train, label=y_train)\n",
        "    dtest = xgb.DMatrix(X_test, label=y_test)\n",
        "\n",
        "    # Parameters aligned with XGBoost's theoretical improvements\n",
        "    params = {\n",
        "        'objective': objective,\n",
        "        'eval_metric': eval_metric,\n",
        "        'tree_method': tree_method,\n",
        "        'learning_rate': learning_rate,\n",
        "        'max_depth': max_depth,\n",
        "        'subsample': subsample,\n",
        "        'colsample_bytree': colsample_bytree,\n",
        "        'gamma': gamma,\n",
        "        'reg_alpha': reg_alpha,\n",
        "        'reg_lambda': reg_lambda,\n",
        "        'seed': seed,\n",
        "        'n_jobs': n_jobs\n",
        "    }\n",
        "\n",
        "    # Early stopping (prevents overfitting)\n",
        "    num_rounds = 100\n",
        "    watchlist = [(dtrain, 'train'), (dtest, 'eval')]\n",
        "    model = xgb.train(\n",
        "        params,\n",
        "        dtrain,\n",
        "        num_boost_round=num_rounds,\n",
        "        evals=watchlist,\n",
        "        early_stopping_rounds=20,\n",
        "        verbose_eval=10\n",
        "    )\n",
        "    return model"
      ],
      "metadata": {
        "id": "xpPAEJmM_jMI"
      },
      "execution_count": 21,
      "outputs": []
    },
    {
      "cell_type": "code",
      "source": [
        "# Train the XGBoost model\n",
        "model = train_xgboost_model(X_train, y_train, X_test, y_test)\n",
        "\n",
        "# Make predictions\n",
        "y_pred_proba = model.predict(dtest)\n",
        "y_pred = (y_pred_proba > 0.5).astype(int)\n",
        "\n",
        "# Evaluate model\n",
        "accuracy = accuracy_score(y_test, y_pred)\n",
        "auc_score = roc_auc_score(y_test, y_pred_proba)\n",
        "\n",
        "print(f\"Accuracy: {accuracy:.4f}\")\n",
        "print(f\"AUC: {auc_score:.4f}\")\n",
        "\n"
      ],
      "metadata": {
        "colab": {
          "base_uri": "https://localhost:8080/"
        },
        "id": "mQLTSt9BOfGL",
        "outputId": "748f41fb-49a0-4193-b8f7-2e65b6b166d1"
      },
      "execution_count": 22,
      "outputs": [
        {
          "output_type": "stream",
          "name": "stdout",
          "text": [
            "[0]\ttrain-auc:0.99485\teval-auc:0.99444\n",
            "[10]\ttrain-auc:0.99796\teval-auc:0.99787\n",
            "[20]\ttrain-auc:0.99863\teval-auc:0.99848\n",
            "[30]\ttrain-auc:0.99891\teval-auc:0.99883\n",
            "[40]\ttrain-auc:0.99912\teval-auc:0.99900\n",
            "[50]\ttrain-auc:0.99922\teval-auc:0.99908\n",
            "[60]\ttrain-auc:0.99933\teval-auc:0.99917\n",
            "[70]\ttrain-auc:0.99940\teval-auc:0.99922\n",
            "[80]\ttrain-auc:0.99949\teval-auc:0.99923\n",
            "[90]\ttrain-auc:0.99955\teval-auc:0.99926\n",
            "[99]\ttrain-auc:0.99959\teval-auc:0.99927\n",
            "Accuracy: 0.9900\n",
            "AUC: 0.9993\n"
          ]
        }
      ]
    },
    {
      "cell_type": "code",
      "source": [
        "# Calculate metrics\n",
        "accuracy = accuracy_score(y_test, y_pred) * 100  # Convert to percentage\n",
        "f1 = f1_score(y_test, y_pred)\n",
        "auc_score = roc_auc_score(y_test, y_pred_proba)\n",
        "\n",
        "# Print formatted metrics in a table\n",
        "print(\"\\nPerformance Metrics:\")\n",
        "print(\"| Metric    | Score      |\")\n",
        "print(\"|-----------|------------|\")\n",
        "print(f\"| Accuracy  | {accuracy:.1f}%    |\")\n",
        "print(f\"| F1 Score  | {f1:.3f}    |\")\n",
        "print(f\"| ROC-AUC   | {auc_score:.3f}    |\")\n",
        "\n",
        "# Print the original detailed outputs\n",
        "print(f\"\\nDetailed Accuracy: {accuracy:.1f}%\")\n",
        "print(f\"Detailed AUC: {auc_score:.4f}\")"
      ],
      "metadata": {
        "colab": {
          "base_uri": "https://localhost:8080/"
        },
        "id": "9YNRl_YBVhie",
        "outputId": "4048a782-bb55-47aa-9e47-68cd290e9efa"
      },
      "execution_count": 23,
      "outputs": [
        {
          "output_type": "stream",
          "name": "stdout",
          "text": [
            "\n",
            "Performance Metrics:\n",
            "| Metric    | Score      |\n",
            "|-----------|------------|\n",
            "| Accuracy  | 99.0%    |\n",
            "| F1 Score  | 0.990    |\n",
            "| ROC-AUC   | 0.999    |\n",
            "\n",
            "Detailed Accuracy: 99.0%\n",
            "Detailed AUC: 0.9993\n"
          ]
        }
      ]
    },
    {
      "cell_type": "code",
      "source": [
        "# Display classification report\n",
        "print(\"\\nClassification Report:\")\n",
        "print(classification_report(y_test, y_pred))\n"
      ],
      "metadata": {
        "colab": {
          "base_uri": "https://localhost:8080/"
        },
        "id": "dewd4Q65N6Rl",
        "outputId": "5b234830-1999-41c4-df2d-8fd5bfb9ee8f"
      },
      "execution_count": 24,
      "outputs": [
        {
          "output_type": "stream",
          "name": "stdout",
          "text": [
            "\n",
            "Classification Report:\n",
            "              precision    recall  f1-score   support\n",
            "\n",
            "           0       0.99      0.99      0.99     11549\n",
            "           1       0.99      0.99      0.99     12309\n",
            "\n",
            "    accuracy                           0.99     23858\n",
            "   macro avg       0.99      0.99      0.99     23858\n",
            "weighted avg       0.99      0.99      0.99     23858\n",
            "\n"
          ]
        }
      ]
    },
    {
      "cell_type": "code",
      "source": [
        "# Plot feature importance\n",
        "plt.figure(figsize=(12, 6))\n",
        "xgb.plot_importance(model, max_num_features=20)\n",
        "plt.title('XGBoost Feature Importance')\n",
        "plt.tight_layout()\n",
        "plt.show()"
      ],
      "metadata": {
        "colab": {
          "base_uri": "https://localhost:8080/",
          "height": 504
        },
        "id": "G9zDa99ZN8UJ",
        "outputId": "68b7b8a7-d43e-4887-ad4c-4c89dc22a4ee"
      },
      "execution_count": 25,
      "outputs": [
        {
          "output_type": "display_data",
          "data": {
            "text/plain": [
              "<Figure size 1200x600 with 0 Axes>"
            ]
          },
          "metadata": {}
        },
        {
          "output_type": "display_data",
          "data": {
            "text/plain": [
              "<Figure size 640x480 with 1 Axes>"
            ],
            "image/png": "[encoded data removed]"
          },
          "metadata": {}
        }
      ]
    },
    {
      "cell_type": "code",
      "source": [
        "# Get feature importance scores\n",
        "importance_scores = model.get_score(importance_type='weight')\n",
        "sorted_features = sorted(importance_scores.items(), key=lambda x: x[1], reverse=True)\n",
        "\n",
        "# Print top 10 features\n",
        "print(\"\\nTop 10 Most Important Features:\")\n",
        "print(\"| Rank | Feature Name       | Importance Score |\")\n",
        "print(\"|------|--------------------|------------------|\")\n",
        "for i, (feature, score) in enumerate(sorted_features[:20], 1):\n",
        "    print(f\"| {i:<4} | {feature:<18} | {score:<16} |\")\n"
      ],
      "metadata": {
        "colab": {
          "base_uri": "https://localhost:8080/"
        },
        "id": "nTxz1VEQWSMZ",
        "outputId": "12f5a004-d880-4cac-fe0e-b27f026d96a0"
      },
      "execution_count": 26,
      "outputs": [
        {
          "output_type": "stream",
          "name": "stdout",
          "text": [
            "\n",
            "Top 10 Most Important Features:\n",
            "| Rank | Feature Name       | Importance Score |\n",
            "|------|--------------------|------------------|\n",
            "| 1    | total_rec_prncp    | 449.0            |\n",
            "| 2    | last_pymnt_d       | 403.0            |\n",
            "| 3    | last_pymnt_amnt    | 322.0            |\n",
            "| 4    | out_prncp          | 315.0            |\n",
            "| 5    | installment        | 211.0            |\n",
            "| 6    | last_fico_range_high | 208.0            |\n",
            "| 7    | loan_amnt          | 203.0            |\n",
            "| 8    | total_rec_late_fee | 199.0            |\n",
            "| 9    | total_rec_int      | 132.0            |\n",
            "| 10   | funded_amnt_inv    | 101.0            |\n",
            "| 11   | revol_util         | 101.0            |\n",
            "| 12   | mo_sin_old_rev_tl_op | 93.0             |\n",
            "| 13   | dti                | 93.0             |\n",
            "| 14   | total_pymnt        | 92.0             |\n",
            "| 15   | out_prncp_inv      | 90.0             |\n",
            "| 16   | annual_inc         | 86.0             |\n",
            "| 17   | debt_settlement_flag | 85.0             |\n",
            "| 18   | recoveries         | 83.0             |\n",
            "| 19   | hardship_flag      | 75.0             |\n",
            "| 20   | all_util           | 64.0             |\n"
          ]
        }
      ]
    }
  ]
}